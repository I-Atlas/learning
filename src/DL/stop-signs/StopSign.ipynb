{
 "cells": [
  {
   "cell_type": "markdown",
   "source": [
    "# Get Data"
   ],
   "metadata": {
    "collapsed": false
   }
  },
  {
   "cell_type": "code",
   "execution_count": 3,
   "id": "168f72e6-898b-4ded-a7a9-93c79d0af1ed",
   "metadata": {
    "ExecuteTime": {
     "end_time": "2023-06-04T11:47:06.918163500Z",
     "start_time": "2023-06-04T11:47:06.902201100Z"
    }
   },
   "outputs": [
    {
     "name": "stdout",
     "output_type": "stream",
     "text": [
      "Couldn't find program: 'bash'\n"
     ]
    }
   ],
   "source": [
    "%%bash\n",
    "mkdir ~/.kaggle\n",
    "cp kaggle.json ~/.kaggle/kaggle.json\n",
    "chmod 600 ~/.kaggle/kaggle.json\n",
    "pip install kaggle\n",
    "kaggle datasets download -d andrewmvd/road-sign-detection\n",
    "unzip road-sign-detection.zip -d data\n",
    "mv ./data/annotations ./data/labels"
   ]
  },
  {
   "cell_type": "markdown",
   "id": "41a0dd1c-b68d-44db-954c-f54103f69a5f",
   "metadata": {},
   "source": [
    "# Setup Yolov5"
   ]
  },
  {
   "cell_type": "code",
   "execution_count": null,
   "id": "c453391e-8896-4ce4-ae86-8ed5190fd75a",
   "metadata": {
    "tags": []
   },
   "outputs": [],
   "source": [
    "%%bash\n",
    "git clone https://github.com/ultralytics/yolov5\n",
    "cd yolov5 \n",
    "pip install -r requirements.txt"
   ]
  },
  {
   "cell_type": "code",
   "execution_count": null,
   "id": "275fdccc-77fa-40e3-9423-6f5f8705f01a",
   "metadata": {},
   "outputs": [],
   "source": [
    "from preprocessing import convert_voc_to_yolo"
   ]
  },
  {
   "cell_type": "code",
   "execution_count": null,
   "id": "4f4f7ee5-4c5c-403a-8962-290f5f96d0c2",
   "metadata": {},
   "outputs": [],
   "source": [
    "convert_voc_to_yolo()"
   ]
  },
  {
   "cell_type": "code",
   "execution_count": null,
   "id": "a1a535ea-28f1-46c8-9fc7-46bd656b0d5f",
   "metadata": {},
   "outputs": [],
   "source": [
    "%%bash\n",
    "#cp yolov5/data/VOC.yaml yolov5/VOC.yaml "
   ]
  },
  {
   "cell_type": "code",
   "execution_count": null,
   "id": "66f4a2f7-8197-41d0-9fe7-5d72eea3cfd0",
   "metadata": {},
   "outputs": [],
   "source": [
    "# # Write out this YAML\n",
    "# path: ../data\n",
    "# train: # train images (relative to 'path')  16551 images\n",
    "#   - images\n",
    "# val: # val images (relative to 'path')  4952 images\n",
    "#   - images\n",
    "\n",
    "# # Classes\n",
    "# names:\n",
    "#   0: trafficlight\n",
    "#   1: speedlimit\n",
    "#   2: crosswalk\n",
    "#   3: stop"
   ]
  },
  {
   "cell_type": "markdown",
   "id": "4dea3872-454a-4a66-b8d2-6fc2869929de",
   "metadata": {},
   "source": [
    "# Get Stuff Up and Running"
   ]
  },
  {
   "cell_type": "code",
   "execution_count": null,
   "id": "593aa5ae-6fe0-4c4e-a167-e7e18e06f551",
   "metadata": {},
   "outputs": [],
   "source": [
    "import torch\n",
    "from matplotlib import pyplot as plt\n",
    "import numpy as np\n",
    "import cv2\n",
    "import itertools\n",
    "import os "
   ]
  },
  {
   "cell_type": "code",
   "execution_count": null,
   "id": "39285c91-7886-45ac-8f1b-45919085966a",
   "metadata": {
    "tags": []
   },
   "outputs": [],
   "source": [
    "%%bash\n",
    "cd yolov5 \n",
    "python train.py --img 320 --batch 16 --epochs 500 --data customVOC.yaml --weights yolov5s.pt --workers 2"
   ]
  },
  {
   "cell_type": "code",
   "execution_count": null,
   "id": "60f2abe5-1fb8-4037-bf6d-487bd4e82dbc",
   "metadata": {
    "tags": []
   },
   "outputs": [],
   "source": [
    "model = torch.hub.load('ultralytics/yolov5', 'custom', path='yolov5/runs/train/exp5/weights/best.pt', force_reload=True)"
   ]
  },
  {
   "cell_type": "code",
   "execution_count": null,
   "id": "5973673d-ec96-4003-a49f-bbb4cc601057",
   "metadata": {},
   "outputs": [],
   "source": [
    "fig, ax = plt.subplots(2,4, figsize=(20,10))\n",
    "imgs = os.listdir('./data/images')\n",
    "\n",
    "for idx in itertools.product(range(2),range(4)): \n",
    "    imgname = np.random.choice(imgs)\n",
    "    img = cv2.imread(f'./data/images/{imgname}')\n",
    "    results = model(img)\n",
    "    ax[idx[0],idx[1]].imshow(cv2.cvtColor(np.squeeze(results.render()), cv2.COLOR_BGR2RGB))"
   ]
  }
 ],
 "metadata": {
  "kernelspec": {
   "display_name": "Python 3 (ipykernel)",
   "language": "python",
   "name": "python3"
  },
  "language_info": {
   "codemirror_mode": {
    "name": "ipython",
    "version": 3
   },
   "file_extension": ".py",
   "mimetype": "text/x-python",
   "name": "python",
   "nbconvert_exporter": "python",
   "pygments_lexer": "ipython3",
   "version": "3.9.13"
  }
 },
 "nbformat": 4,
 "nbformat_minor": 5
}
